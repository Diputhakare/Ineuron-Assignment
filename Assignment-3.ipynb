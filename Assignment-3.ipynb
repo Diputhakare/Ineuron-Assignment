{
 "cells": [
  {
   "cell_type": "markdown",
   "id": "d9a0e596",
   "metadata": {},
   "source": [
    "1.Why are the functions advantageous to have in your programs ?"
   ]
  },
  {
   "cell_type": "markdown",
   "id": "f3d763e6",
   "metadata": {},
   "source": [
    "1.Reuse code,\n",
    "\n",
    "2.Reducing chance of Error, and easy to find error,\n",
    "\n",
    "3.program become easier by using function,\n",
    "\n",
    "4.Easy to read and understand."
   ]
  },
  {
   "cell_type": "markdown",
   "id": "932878e6",
   "metadata": {},
   "source": [
    "2.When does the code in a function run: when its specified or when its called?"
   ]
  },
  {
   "cell_type": "markdown",
   "id": "d4067799",
   "metadata": {},
   "source": [
    "A function start with keyword def after that\n",
    "specify function name and the squence of statement, later call the function by name."
   ]
  },
  {
   "cell_type": "markdown",
   "id": "9bb1b531",
   "metadata": {},
   "source": [
    "3.What statement create by function?"
   ]
  },
  {
   "cell_type": "markdown",
   "id": "19421420",
   "metadata": {},
   "source": [
    "def statement creat by function"
   ]
  },
  {
   "cell_type": "markdown",
   "id": "329ba825",
   "metadata": {},
   "source": [
    "4.What is the difference between a function and a function call ?"
   ]
  },
  {
   "cell_type": "markdown",
   "id": "38fbbaec",
   "metadata": {},
   "source": [
    "A function is a group of code which reuse in program. Its means the group of code need not to  be written again .\n",
    "one time a function created ,call it by function name itself or another function.\n",
    "\n",
    "A function is a method to derive a particular result while a function call is using this function to achieve that task."
   ]
  },
  {
   "cell_type": "markdown",
   "id": "4f52982c",
   "metadata": {},
   "source": [
    "5.How many global scopes are there in python program ? how many local scopes?"
   ]
  },
  {
   "cell_type": "markdown",
   "id": "7e9855f3",
   "metadata": {},
   "source": [
    "There is only one global scope per program execution.\n",
    "There can be any number of local scope per program execution"
   ]
  },
  {
   "cell_type": "markdown",
   "id": "8c048d28",
   "metadata": {},
   "source": [
    "6.What happens to variables in a local scope when the function call returns?"
   ]
  },
  {
   "cell_type": "markdown",
   "id": "8b6b2bd0",
   "metadata": {},
   "source": [
    "A variables in a local scope when the function call returns, its returns value until the next time the function is called"
   ]
  },
  {
   "cell_type": "code",
   "execution_count": 1,
   "id": "39006106",
   "metadata": {},
   "outputs": [],
   "source": [
    "def lfun():\n",
    "    x = 300\n",
    "    return x"
   ]
  },
  {
   "cell_type": "code",
   "execution_count": 2,
   "id": "6e0fccbd",
   "metadata": {},
   "outputs": [
    {
     "data": {
      "text/plain": [
       "300"
      ]
     },
     "execution_count": 2,
     "metadata": {},
     "output_type": "execute_result"
    }
   ],
   "source": [
    "lfun()"
   ]
  },
  {
   "cell_type": "markdown",
   "id": "4ef62806",
   "metadata": {},
   "source": [
    "7. What is the concept of a return value? Is it possible to have a return value in an expression?"
   ]
  },
  {
   "cell_type": "markdown",
   "id": "965d2a5a",
   "metadata": {},
   "source": [
    "A return value is result that function returns to the calling function when it completes its task.\n",
    "Its return value in an  expression if return expression has no expression  then None is return"
   ]
  },
  {
   "cell_type": "markdown",
   "id": "34616844",
   "metadata": {},
   "source": [
    "8. If a function does not have a return statement, what is the return value of a call to that function?"
   ]
  },
  {
   "cell_type": "markdown",
   "id": "356613c4",
   "metadata": {},
   "source": [
    "If a function does not have a return statement then None value is returned."
   ]
  },
  {
   "cell_type": "code",
   "execution_count": 7,
   "id": "2be4d9d0",
   "metadata": {},
   "outputs": [],
   "source": [
    "def nrfun():\n",
    "    n= \"dipmala thakare\""
   ]
  },
  {
   "cell_type": "code",
   "execution_count": 8,
   "id": "87bad5d5",
   "metadata": {},
   "outputs": [],
   "source": [
    "nrfun()"
   ]
  },
  {
   "cell_type": "markdown",
   "id": "53367822",
   "metadata": {},
   "source": [
    "9. How do you make a function variable refer to the global variable?"
   ]
  },
  {
   "cell_type": "markdown",
   "id": "9230e26d",
   "metadata": {},
   "source": [
    "If make a function variable refer to the global variable  use a global keyword ."
   ]
  },
  {
   "cell_type": "code",
   "execution_count": 15,
   "id": "42d0cf5e",
   "metadata": {},
   "outputs": [],
   "source": [
    "def gfunc():\n",
    "    global x\n",
    "    x = 24\n",
    "    return x"
   ]
  },
  {
   "cell_type": "code",
   "execution_count": 18,
   "id": "989aa5af",
   "metadata": {},
   "outputs": [
    {
     "data": {
      "text/plain": [
       "24"
      ]
     },
     "execution_count": 18,
     "metadata": {},
     "output_type": "execute_result"
    }
   ],
   "source": [
    "gfunc()"
   ]
  },
  {
   "cell_type": "markdown",
   "id": "3218bb37",
   "metadata": {},
   "source": [
    "10. What is the data type of None?"
   ]
  },
  {
   "cell_type": "markdown",
   "id": "a111c342",
   "metadata": {},
   "source": [
    "None is defined null value.\n",
    "None is a data type of its own None type.\n",
    "\n",
    "It is not the same as an empty string, False, or a zero."
   ]
  },
  {
   "cell_type": "code",
   "execution_count": 34,
   "id": "e94774b0",
   "metadata": {},
   "outputs": [],
   "source": [
    "x=None\n",
    "y=0\n",
    "z=False\n",
    "a=\"\""
   ]
  },
  {
   "cell_type": "code",
   "execution_count": 35,
   "id": "bf845d0b",
   "metadata": {},
   "outputs": [
    {
     "name": "stdout",
     "output_type": "stream",
     "text": [
      "<class 'NoneType'>\n",
      "<class 'int'>\n",
      "<class 'bool'>\n",
      "<class 'str'>\n"
     ]
    }
   ],
   "source": [
    "print(type(x))\n",
    "print(type(y))\n",
    "print(type(z))\n",
    "print(type(a))"
   ]
  },
  {
   "cell_type": "markdown",
   "id": "3434fbd2",
   "metadata": {},
   "source": [
    "11. What does the sentence import areallyourpetsnamederic do?"
   ]
  },
  {
   "cell_type": "markdown",
   "id": "9bbb527f",
   "metadata": {},
   "source": [
    "import statement import module areallyourpetnamederic."
   ]
  },
  {
   "cell_type": "markdown",
   "id": "08cf2ca6",
   "metadata": {},
   "source": [
    "12. If you had a bacon() feature in a spam module, what would you call it after importing spam?"
   ]
  },
  {
   "cell_type": "markdown",
   "id": "fed59cc8",
   "metadata": {},
   "source": [
    "This function called with spam.bacon()"
   ]
  },
  {
   "cell_type": "markdown",
   "id": "923897f1",
   "metadata": {},
   "source": [
    "13. What can you do to save a programme from crashing if it encounters an error"
   ]
  },
  {
   "cell_type": "markdown",
   "id": "e9d05f9f",
   "metadata": {},
   "source": [
    "Use excetion handling."
   ]
  },
  {
   "cell_type": "markdown",
   "id": "b8b62ebb",
   "metadata": {},
   "source": [
    "14. What is the purpose of the try clause? What is the purpose of the except clause?"
   ]
  },
  {
   "cell_type": "markdown",
   "id": "7b90c554",
   "metadata": {},
   "source": [
    "The try clause check a block of code for errors.\n",
    "The except clause handle the error of a block code."
   ]
  },
  {
   "cell_type": "code",
   "execution_count": 37,
   "id": "1a5eb124",
   "metadata": {},
   "outputs": [
    {
     "name": "stdout",
     "output_type": "stream",
     "text": [
      "unsupported operand type(s) for +: 'int' and 'str'\n"
     ]
    }
   ],
   "source": [
    "#Examples try and except clause:\n",
    "try:\n",
    "    a=5\n",
    "    b=\"dip\"\n",
    "    print(a+b)\n",
    "except Exception as e:\n",
    "    print(e)"
   ]
  },
  {
   "cell_type": "code",
   "execution_count": null,
   "id": "5fc1322e",
   "metadata": {},
   "outputs": [],
   "source": []
  }
 ],
 "metadata": {
  "kernelspec": {
   "display_name": "Python 3 (ipykernel)",
   "language": "python",
   "name": "python3"
  },
  "language_info": {
   "codemirror_mode": {
    "name": "ipython",
    "version": 3
   },
   "file_extension": ".py",
   "mimetype": "text/x-python",
   "name": "python",
   "nbconvert_exporter": "python",
   "pygments_lexer": "ipython3",
   "version": "3.10.4"
  }
 },
 "nbformat": 4,
 "nbformat_minor": 5
}
