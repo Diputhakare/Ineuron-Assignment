{
 "cells": [
  {
   "cell_type": "markdown",
   "id": "576875b4",
   "metadata": {},
   "source": [
    "1. What does an empty dictionary's code look like?"
   ]
  },
  {
   "cell_type": "code",
   "execution_count": 1,
   "id": "d1996da0",
   "metadata": {},
   "outputs": [],
   "source": [
    "dict={}"
   ]
  },
  {
   "cell_type": "markdown",
   "id": "492cf831",
   "metadata": {},
   "source": [
    "2. What is the value of a dictionary value with the key 'foo' and the value 42?\n"
   ]
  },
  {
   "cell_type": "code",
   "execution_count": 2,
   "id": "498c3da7",
   "metadata": {},
   "outputs": [
    {
     "data": {
      "text/plain": [
       "{'foo': 42}"
      ]
     },
     "execution_count": 2,
     "metadata": {},
     "output_type": "execute_result"
    }
   ],
   "source": [
    "dict={\"foo\":42}\n",
    "dict"
   ]
  },
  {
   "cell_type": "markdown",
   "id": "3a8815bb",
   "metadata": {},
   "source": [
    "3. What is the most significant distinction between a dictionary and a list?\n"
   ]
  },
  {
   "cell_type": "markdown",
   "id": "8992f32c",
   "metadata": {},
   "source": [
    "dictionary:\n",
    "    \n",
    "    Dictionary is a collection which is ordered,mutable.\n",
    "    \n",
    "    Dictionary are written within curly brackets and they have keys and values.\n",
    "    \n",
    "    Elements accessed by key-value.Dictionaries cannot have two items with the same key.\n",
    "\n",
    "\n",
    "    \n",
    "List:\n",
    "\n",
    "    List is sequence ordered,indexed and mutable.\n",
    "    \n",
    "    List are written within square brackets.\n",
    "    \n",
    "    List elements accessed by indexed\n",
    "    \n",
    "    "
   ]
  },
  {
   "cell_type": "markdown",
   "id": "e47a10b7",
   "metadata": {},
   "source": [
    "4. What happens if you try to access spam['foo'] if spam is {'bar': 100}?\n"
   ]
  },
  {
   "cell_type": "code",
   "execution_count": 3,
   "id": "4d0ff2f0",
   "metadata": {},
   "outputs": [
    {
     "name": "stdout",
     "output_type": "stream",
     "text": [
      "{'bar': 100}\n"
     ]
    }
   ],
   "source": [
    "spam={\"bar\":100}\n",
    "print(spam)"
   ]
  },
  {
   "cell_type": "code",
   "execution_count": 4,
   "id": "b26e5e00",
   "metadata": {},
   "outputs": [
    {
     "ename": "KeyError",
     "evalue": "'foo'",
     "output_type": "error",
     "traceback": [
      "\u001b[1;31m---------------------------------------------------------------------------\u001b[0m",
      "\u001b[1;31mKeyError\u001b[0m                                  Traceback (most recent call last)",
      "Input \u001b[1;32mIn [4]\u001b[0m, in \u001b[0;36m<cell line: 1>\u001b[1;34m()\u001b[0m\n\u001b[1;32m----> 1\u001b[0m \u001b[43mspam\u001b[49m\u001b[43m[\u001b[49m\u001b[38;5;124;43m\"\u001b[39;49m\u001b[38;5;124;43mfoo\u001b[39;49m\u001b[38;5;124;43m\"\u001b[39;49m\u001b[43m]\u001b[49m\n",
      "\u001b[1;31mKeyError\u001b[0m: 'foo'"
     ]
    }
   ],
   "source": [
    "spam[\"foo\"] # Giving KeyError"
   ]
  },
  {
   "cell_type": "markdown",
   "id": "034e7566",
   "metadata": {},
   "source": [
    "5. If a dictionary is stored in spam, what is the difference between the expressions \"cat\" in spam and\n",
    "\"cat\" in spam.keys()?"
   ]
  },
  {
   "cell_type": "markdown",
   "id": "5ed07a8d",
   "metadata": {},
   "source": [
    "There is no difference. The in operator checks whether a value exists as a key in the dictionary."
   ]
  },
  {
   "cell_type": "code",
   "execution_count": 5,
   "id": "4cbec5cd",
   "metadata": {},
   "outputs": [],
   "source": [
    "spam={\"cat\":4}"
   ]
  },
  {
   "cell_type": "code",
   "execution_count": 6,
   "id": "3249c0a6",
   "metadata": {},
   "outputs": [
    {
     "data": {
      "text/plain": [
       "True"
      ]
     },
     "execution_count": 6,
     "metadata": {},
     "output_type": "execute_result"
    }
   ],
   "source": [
    "\"cat\" in spam"
   ]
  },
  {
   "cell_type": "code",
   "execution_count": 7,
   "id": "0ba1b5fb",
   "metadata": {},
   "outputs": [
    {
     "data": {
      "text/plain": [
       "True"
      ]
     },
     "execution_count": 7,
     "metadata": {},
     "output_type": "execute_result"
    }
   ],
   "source": [
    "\"cat\" in spam.keys()"
   ]
  },
  {
   "cell_type": "markdown",
   "id": "132caa9b",
   "metadata": {},
   "source": [
    "6. If a dictionary is stored in spam, what is the difference between the expressions \"cat\" in spam and\n",
    "\"cat\" in spam.values()?"
   ]
  },
  {
   "cell_type": "markdown",
   "id": "556f34cd",
   "metadata": {},
   "source": [
    "The in operator checks whether a value exists in spam and as a value in the dictionary."
   ]
  },
  {
   "cell_type": "code",
   "execution_count": 8,
   "id": "924ffa2d",
   "metadata": {},
   "outputs": [],
   "source": [
    "spam={\"cat\":4}"
   ]
  },
  {
   "cell_type": "code",
   "execution_count": 9,
   "id": "dfe796a1",
   "metadata": {},
   "outputs": [
    {
     "data": {
      "text/plain": [
       "True"
      ]
     },
     "execution_count": 9,
     "metadata": {},
     "output_type": "execute_result"
    }
   ],
   "source": [
    "\"cat\" in spam"
   ]
  },
  {
   "cell_type": "code",
   "execution_count": 10,
   "id": "eae42515",
   "metadata": {},
   "outputs": [
    {
     "data": {
      "text/plain": [
       "False"
      ]
     },
     "execution_count": 10,
     "metadata": {},
     "output_type": "execute_result"
    }
   ],
   "source": [
    "\"cat\" in spam.values()"
   ]
  },
  {
   "cell_type": "markdown",
   "id": "d623607e",
   "metadata": {},
   "source": [
    "7. What is a shortcut for the following code?\n",
    "if \"color\" not in spam:\n",
    "spam[\"color\"] = \"black\""
   ]
  },
  {
   "cell_type": "code",
   "execution_count": 11,
   "id": "08856ec2",
   "metadata": {},
   "outputs": [
    {
     "data": {
      "text/plain": [
       "'black'"
      ]
     },
     "execution_count": 11,
     "metadata": {},
     "output_type": "execute_result"
    }
   ],
   "source": [
    "spam.setdefault('color', 'black') # adding new element iin the dictionary"
   ]
  },
  {
   "cell_type": "code",
   "execution_count": 12,
   "id": "46916038",
   "metadata": {},
   "outputs": [
    {
     "data": {
      "text/plain": [
       "{'cat': 4, 'color': 'black'}"
      ]
     },
     "execution_count": 12,
     "metadata": {},
     "output_type": "execute_result"
    }
   ],
   "source": [
    "spam"
   ]
  },
  {
   "cell_type": "markdown",
   "id": "69905aeb",
   "metadata": {},
   "source": [
    "8. How do you \"pretty print\" dictionary values using which module and function?"
   ]
  },
  {
   "cell_type": "markdown",
   "id": "5c2efa40",
   "metadata": {},
   "source": [
    "using pprint module and pprint()function."
   ]
  },
  {
   "cell_type": "code",
   "execution_count": 13,
   "id": "6e52100e",
   "metadata": {},
   "outputs": [],
   "source": [
    "#pip install prettyprint\n",
    "import pprint\n",
    "from pprint import pprint"
   ]
  },
  {
   "cell_type": "code",
   "execution_count": 14,
   "id": "e86f9fea",
   "metadata": {},
   "outputs": [],
   "source": [
    "data=[2,4,[56,\"dk\"],(8,96,\"d\"),{\"a\":1,\"b\":2,\"c\":3},[4,5,6,[\"dipu\"]]]"
   ]
  },
  {
   "cell_type": "code",
   "execution_count": 15,
   "id": "4db40701",
   "metadata": {},
   "outputs": [
    {
     "name": "stdout",
     "output_type": "stream",
     "text": [
      "[2, 4, [56, 'dk'], (8, 96, 'd'), {'a': 1, 'b': 2, 'c': 3}, [4, 5, 6, ['dipu']]]\n"
     ]
    }
   ],
   "source": [
    "pprint(data) "
   ]
  }
 ],
 "metadata": {
  "kernelspec": {
   "display_name": "Python 3 (ipykernel)",
   "language": "python",
   "name": "python3"
  },
  "language_info": {
   "codemirror_mode": {
    "name": "ipython",
    "version": 3
   },
   "file_extension": ".py",
   "mimetype": "text/x-python",
   "name": "python",
   "nbconvert_exporter": "python",
   "pygments_lexer": "ipython3",
   "version": "3.10.4"
  }
 },
 "nbformat": 4,
 "nbformat_minor": 5
}
