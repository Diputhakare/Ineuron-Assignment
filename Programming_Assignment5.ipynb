{
 "cells": [
  {
   "cell_type": "markdown",
   "metadata": {},
   "source": [
    "**1. Write a Python Program to Find LCM?**"
   ]
  },
  {
   "cell_type": "code",
   "execution_count": 1,
   "metadata": {},
   "outputs": [
    {
     "name": "stdout",
     "output_type": "stream",
     "text": [
      "lcm of number is : 175\n"
     ]
    }
   ],
   "source": [
    "def find_LCM(x,y):\n",
    "    for i in range(1, x*y+1):\n",
    "        if i%x==0 and i%y==0:\n",
    "            print(\"lcm of number is :\",i)\n",
    "            break\n",
    "            \n",
    "            \n",
    "find_LCM(25,35)            "
   ]
  },
  {
   "cell_type": "markdown",
   "metadata": {},
   "source": [
    "**2. Write a Python Program to Find HCF?**"
   ]
  },
  {
   "cell_type": "code",
   "execution_count": 16,
   "metadata": {},
   "outputs": [],
   "source": [
    "def find_HCF(x,y):\n",
    "    while x%y!=0:\n",
    "        rem=x%y\n",
    "        x=y\n",
    "        y=rem\n",
    "    print(\"HCF is :\",y)    \n",
    "        \n",
    "find_HCF(50,60)        "
   ]
  },
  {
   "cell_type": "markdown",
   "metadata": {},
   "source": [
    "**3. Write a Python Program to Convert Decimal to Binary, Octal and Hexadecimal?**"
   ]
  },
  {
   "cell_type": "code",
   "execution_count": 21,
   "metadata": {},
   "outputs": [
    {
     "name": "stdout",
     "output_type": "stream",
     "text": [
      "Enter the decimal number:12\n",
      "The decimal value of 12 is:\n",
      "0b1100 in binary.\n",
      "0o14 in octal.\n",
      "0xc in hexadecimal.\n"
     ]
    }
   ],
   "source": [
    "dec =int(input(\"Enter the decimal number:\"))\n",
    "\n",
    "print(\"The decimal value of\", dec, \"is:\")\n",
    "print(bin(dec), \"in binary.\")\n",
    "print(oct(dec), \"in octal.\")\n",
    "print(hex(dec), \"in hexadecimal.\")\n"
   ]
  },
  {
   "cell_type": "markdown",
   "metadata": {},
   "source": [
    "**4. Write a Python Program To Find ASCII value of a character?**"
   ]
  },
  {
   "cell_type": "code",
   "execution_count": 24,
   "metadata": {},
   "outputs": [
    {
     "name": "stdout",
     "output_type": "stream",
     "text": [
      "Enter the character:h\n",
      "The ASCII value of 'h' is 104\n"
     ]
    }
   ],
   "source": [
    "ch= input(\"Enter the character:\")\n",
    "print(\"The ASCII value of '\" + ch + \"' is\", ord(ch))\n"
   ]
  },
  {
   "cell_type": "markdown",
   "metadata": {},
   "source": [
    "**5. Write a Python Program to Make a Simple Calculator with 4 basic mathematical operations?**"
   ]
  },
  {
   "cell_type": "code",
   "execution_count": 3,
   "metadata": {},
   "outputs": [],
   "source": [
    "def Calculator():\n",
    "    def add(x, y):\n",
    "        return x + y\n",
    "# This function subtracts two numbers\n",
    "    def subtract(x, y):\n",
    "        return x - y\n",
    "# This function multiplies two numbers\n",
    "    def multiply(x, y):\n",
    "        return x * y\n",
    "# This function divides two numbers\n",
    "    def divide(x, y):\n",
    "        return x / y\n",
    "\n",
    "\n",
    "    print(\"Select operation.\")\n",
    "    print(\"1.Add\")\n",
    "    print(\"2.Subtract\")\n",
    "    print(\"3.Multiply\")\n",
    "    print(\"4.Divide\")\n",
    "\n",
    "    while True:\n",
    "        # take input from the user\n",
    "        choice = input(\"Enter choice(1/2/3/4): \")\n",
    "\n",
    "        # check if choice is one of the four options\n",
    "        if choice in ('1', '2', '3', '4'):\n",
    "            num1 = float(input(\"Enter first number: \"))\n",
    "            num2 = float(input(\"Enter second number: \"))\n",
    "           \n",
    "            if choice == '1':\n",
    "                print(num1, \"+\", num2, \"=\", add(num1, num2))\n",
    "\n",
    "            elif choice == '2':\n",
    "                print(num1, \"-\", num2, \"=\", subtract(num1, num2))\n",
    "\n",
    "            elif choice == '3':\n",
    "                print(num1, \"*\", num2, \"=\", multiply(num1, num2))\n",
    "\n",
    "            elif choice == '4':\n",
    "                print(num1, \"/\", num2, \"=\", divide(num1, num2))\n",
    "        else:\n",
    "            print(\"Invalid Input\") \n",
    "        \n",
    "        \n",
    "        # check if user wants another calculation\n",
    "        # break the while loop if answer is no\n",
    "        next_calculation = input(\"Let's do next calculation? (yes/no): \")\n",
    "        if next_calculation == \"no\":\n",
    "            break\n",
    "    \n",
    "        else:\n",
    "            print(\"Invalid Input\")"
   ]
  },
  {
   "cell_type": "code",
   "execution_count": null,
   "metadata": {},
   "outputs": [],
   "source": []
  }
 ],
 "metadata": {
  "kernelspec": {
   "display_name": "Python 3",
   "language": "python",
   "name": "python3"
  },
  "language_info": {
   "codemirror_mode": {
    "name": "ipython",
    "version": 3
   },
   "file_extension": ".py",
   "mimetype": "text/x-python",
   "name": "python",
   "nbconvert_exporter": "python",
   "pygments_lexer": "ipython3",
   "version": "3.7.4"
  }
 },
 "nbformat": 4,
 "nbformat_minor": 5
}
