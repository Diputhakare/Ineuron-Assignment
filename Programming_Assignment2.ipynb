{
 "cells": [
  {
   "cell_type": "markdown",
   "id": "3b077922",
   "metadata": {},
   "source": [
    "1. Write a Python program to convert kilometers to miles?"
   ]
  },
  {
   "cell_type": "code",
   "execution_count": 2,
   "id": "87100ad3",
   "metadata": {},
   "outputs": [
    {
     "name": "stdout",
     "output_type": "stream",
     "text": [
      "Enter the number of kilometer : 4\n",
      "convert  4  kilometers  to miles  : 2.48548476 miles\n"
     ]
    }
   ],
   "source": [
    "km=int(input(\"Enter the number of kilometer : \"))\n",
    "miles=0.62137119\n",
    "print(\"convert \",km ,\" kilometers  to miles  :\" ,km*miles,\"miles\")"
   ]
  },
  {
   "cell_type": "markdown",
   "id": "b2887d4d",
   "metadata": {},
   "source": [
    "2. Write a Python program to convert Celsius to Fahrenheit?"
   ]
  },
  {
   "cell_type": "code",
   "execution_count": null,
   "id": "13347746",
   "metadata": {},
   "outputs": [],
   "source": [
    "#Celcius to Fahrenheit : (C × 9/5) + 32 = F\n",
    "C=int(input(\"Enter the temprature in celcius : \"))\n",
    "F=(C*(9/5))+32\n",
    "print(C ,\"Celcius is : \",F,\"Fahrenheit\")\n"
   ]
  },
  {
   "cell_type": "markdown",
   "id": "b48b24a8",
   "metadata": {},
   "source": [
    "3. Write a Python program to display calendar?"
   ]
  },
  {
   "cell_type": "code",
   "execution_count": 10,
   "id": "05d409d3",
   "metadata": {},
   "outputs": [
    {
     "name": "stdout",
     "output_type": "stream",
     "text": [
      "Enter the Year :2022\n",
      "Enter the month of the year :11\n",
      "   November 2022\n",
      "Mo Tu We Th Fr Sa Su\n",
      "    1  2  3  4  5  6\n",
      " 7  8  9 10 11 12 13\n",
      "14 15 16 17 18 19 20\n",
      "21 22 23 24 25 26 27\n",
      "28 29 30\n",
      "\n"
     ]
    }
   ],
   "source": [
    "#Import Calendar module\n",
    "import calendar\n",
    "year=int(input(\"Enter the Year :\"))\n",
    "month=int(input(\"Enter the month of the year :\"))\n",
    "print(calendar.month(year,month))"
   ]
  },
  {
   "cell_type": "markdown",
   "id": "8c03c891",
   "metadata": {},
   "source": [
    "4. Write a Python program to solve quadratic equation?"
   ]
  },
  {
   "cell_type": "code",
   "execution_count": 20,
   "id": "c46d20b8",
   "metadata": {},
   "outputs": [
    {
     "name": "stdout",
     "output_type": "stream",
     "text": [
      "Enter the a variable value :4\n",
      "Enter the b variable value :3\n",
      "Enter the c variable value :2\n",
      "The solutions are -0.9744789404140899 and 0.2244789404140899\n"
     ]
    }
   ],
   "source": [
    "# Quadratic equation :ax^2 + bx + c = 0\n",
    "import math\n",
    "a=int(input(\"Enter the a variable value :\"))\n",
    "b=int(input(\"Enter the b variable value :\"))\n",
    "c=int(input(\"Enter the c variable value :\"))\n",
    "#Determinant\n",
    "d=(b*b)-(4*a*c)\n",
    "# x = −b ± sqrt(b2 − 4ac)/2a :\n",
    "sol1 = (-b-math.sqrt(abs(d)))/(2*a)\n",
    "sol2 = (-b+math.sqrt(abs(d)))/(2*a)\n",
    "print(\"The roots are {0} and {1}\".format(sol1,sol2))"
   ]
  },
  {
   "cell_type": "markdown",
   "id": "3df02741",
   "metadata": {},
   "source": [
    "5. Write a Python program to swap two variables without temp variable?"
   ]
  },
  {
   "cell_type": "code",
   "execution_count": 22,
   "id": "b195a35c",
   "metadata": {},
   "outputs": [
    {
     "name": "stdout",
     "output_type": "stream",
     "text": [
      "Enter the  x variable :4\n",
      "Enter the y variable :1\n",
      " x variable after swap : 1\n",
      "y variable after swap : 4\n"
     ]
    }
   ],
   "source": [
    "x=input(\"Enter the  x variable :\")\n",
    "y=input(\"Enter the y variable :\")\n",
    "x,y=y,x\n",
    "print(\" x variable after swap :\",x)\n",
    "print(\"y variable after swap :\",y)"
   ]
  },
  {
   "cell_type": "code",
   "execution_count": null,
   "id": "c8676639",
   "metadata": {},
   "outputs": [],
   "source": []
  }
 ],
 "metadata": {
  "kernelspec": {
   "display_name": "Python 3 (ipykernel)",
   "language": "python",
   "name": "python3"
  },
  "language_info": {
   "codemirror_mode": {
    "name": "ipython",
    "version": 3
   },
   "file_extension": ".py",
   "mimetype": "text/x-python",
   "name": "python",
   "nbconvert_exporter": "python",
   "pygments_lexer": "ipython3",
   "version": "3.10.4"
  }
 },
 "nbformat": 4,
 "nbformat_minor": 5
}
