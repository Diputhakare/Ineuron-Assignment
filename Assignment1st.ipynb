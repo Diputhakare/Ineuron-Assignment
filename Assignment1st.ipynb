{
 "cells": [
  {
   "cell_type": "markdown",
   "id": "74522af7",
   "metadata": {},
   "source": [
    "Que.1 In the below elements which of them are values or an expression? eg:- values can be\n",
    "integer or string and expressions will be mathematical operators."
   ]
  },
  {
   "cell_type": "code",
   "execution_count": null,
   "id": "18b2333d",
   "metadata": {},
   "outputs": [],
   "source": [
    "# *    -   Expression\n",
    "hello - Value (string) \n",
    "-87.8 - Value(float) \n",
    "-     -  Expression\n",
    "/     - Expression\n",
    "+     - Expression\n",
    "6     - Value(integer)"
   ]
  },
  {
   "cell_type": "markdown",
   "id": "9acaac25",
   "metadata": {},
   "source": [
    " Que.2 Different between String and Variable\n",
    " "
   ]
  },
  {
   "cell_type": "markdown",
   "id": "15cfa30d",
   "metadata": {},
   "source": [
    "A String is a data type that gives us information,and a variable is referred value that has stored information.\n"
   ]
  },
  {
   "cell_type": "markdown",
   "id": "11192d86",
   "metadata": {},
   "source": [
    "Que.3 Describe three different data types."
   ]
  },
  {
   "cell_type": "markdown",
   "id": "d85545a4",
   "metadata": {},
   "source": [
    "Numeric- Integer ,Float,Complex number\n",
    "\n",
    "Boolean- which is represent one of the two values i.e. True or False.\n",
    "\n",
    "String- It is used to represent text or charachter in single quote ('') or double quote(\"\").\n",
    "\n",
    "List -It is a collection of different types of values,Its mutable.\n",
    "\n",
    "tuple- Its simillar to list but ,its immutable.\n",
    "\n",
    "dictionary-It is collection of different types of items in the form of key:value in curly braces.\n",
    "\n",
    "set- Set is collection of different type of items in curly braces.    "
   ]
  },
  {
   "cell_type": "markdown",
   "id": "615868f2",
   "metadata": {},
   "source": [
    "Que.4 What is an expression made up of,What do all expressions do."
   ]
  },
  {
   "cell_type": "markdown",
   "id": "49b364b7",
   "metadata": {},
   "source": [
    "An expession is combination of variable, operator and value.Expression is represents value "
   ]
  },
  {
   "cell_type": "markdown",
   "id": "bef9b45b",
   "metadata": {},
   "source": [
    "Que.5 This assignment statements, like spam = 10. What is the difference between an\n",
    "expression and a statement."
   ]
  },
  {
   "cell_type": "raw",
   "id": "26ebdb05",
   "metadata": {},
   "source": [
    "spam=10\n",
    "\n",
    "print(spam)"
   ]
  },
  {
   "cell_type": "markdown",
   "id": "3e48da72",
   "metadata": {},
   "source": [
    "Expression is combination of Value ,Variable and operator.But statement don't have value that display the value .\n",
    "The first line is an assignment statement that gives a value to spam. \n",
    "the second line is a print statement that displays the value of spam.\n"
   ]
  },
  {
   "cell_type": "markdown",
   "id": "efcd5a17",
   "metadata": {},
   "source": [
    "Que.6"
   ]
  },
  {
   "cell_type": "code",
   "execution_count": 6,
   "id": "b00d1f1e",
   "metadata": {},
   "outputs": [
    {
     "data": {
      "text/plain": [
       "23"
      ]
     },
     "execution_count": 6,
     "metadata": {},
     "output_type": "execute_result"
    }
   ],
   "source": [
    "bacon=22\n",
    "bacon+1"
   ]
  },
  {
   "cell_type": "markdown",
   "id": "4e5d71ed",
   "metadata": {},
   "source": [
    "Que.7 What should the values of the following two terms be."
   ]
  },
  {
   "cell_type": "code",
   "execution_count": 7,
   "id": "ec8ecad7",
   "metadata": {},
   "outputs": [
    {
     "data": {
      "text/plain": [
       "'spamspamsapm'"
      ]
     },
     "execution_count": 7,
     "metadata": {},
     "output_type": "execute_result"
    }
   ],
   "source": [
    "'spam'+'spamsapm'"
   ]
  },
  {
   "cell_type": "code",
   "execution_count": 8,
   "id": "196a977a",
   "metadata": {},
   "outputs": [
    {
     "data": {
      "text/plain": [
       "'spamspamspam'"
      ]
     },
     "execution_count": 8,
     "metadata": {},
     "output_type": "execute_result"
    }
   ],
   "source": [
    "'spam'*3"
   ]
  },
  {
   "cell_type": "markdown",
   "id": "aa33cd8e",
   "metadata": {},
   "source": [
    "Que.8 Why is eggs a valid variable name while 100 is invalid?"
   ]
  },
  {
   "cell_type": "code",
   "execution_count": 9,
   "id": "cb592e32",
   "metadata": {},
   "outputs": [],
   "source": [
    "eggs=100"
   ]
  },
  {
   "cell_type": "code",
   "execution_count": 10,
   "id": "4b91fda4",
   "metadata": {},
   "outputs": [
    {
     "ename": "SyntaxError",
     "evalue": "cannot assign to literal here. Maybe you meant '==' instead of '='? (1970962374.py, line 1)",
     "output_type": "error",
     "traceback": [
      "\u001b[1;36m  Input \u001b[1;32mIn [10]\u001b[1;36m\u001b[0m\n\u001b[1;33m    100=eggs\u001b[0m\n\u001b[1;37m    ^\u001b[0m\n\u001b[1;31mSyntaxError\u001b[0m\u001b[1;31m:\u001b[0m cannot assign to literal here. Maybe you meant '==' instead of '='?\n"
     ]
    }
   ],
   "source": [
    "100=eggs"
   ]
  },
  {
   "cell_type": "markdown",
   "id": "46b6fea9",
   "metadata": {},
   "source": [
    "A variable has some regulations.\n",
    "\n",
    "Variable name should not start with digit,that's why 100 is invalid variable."
   ]
  },
  {
   "cell_type": "markdown",
   "id": "10b9113c",
   "metadata": {},
   "source": [
    "Que.9 What three functions can be used to get the integer, floating-point number, or string\n",
    "version of a value?"
   ]
  },
  {
   "cell_type": "markdown",
   "id": "875e5cdd",
   "metadata": {},
   "source": [
    "int(),float(),str()this functions can be used to get the integer ,floating-point number and string value."
   ]
  },
  {
   "cell_type": "markdown",
   "id": "3237a9c3",
   "metadata": {},
   "source": [
    "Que.10 Why does this expression cause an error? How can you fix it?\n",
    "\n",
    "\"I have eaten \"+ 99 + \"burritos\""
   ]
  },
  {
   "cell_type": "code",
   "execution_count": 2,
   "id": "b72e1eed",
   "metadata": {},
   "outputs": [
    {
     "ename": "TypeError",
     "evalue": "can only concatenate str (not \"int\") to str",
     "output_type": "error",
     "traceback": [
      "\u001b[1;31m---------------------------------------------------------------------------\u001b[0m",
      "\u001b[1;31mTypeError\u001b[0m                                 Traceback (most recent call last)",
      "Input \u001b[1;32mIn [2]\u001b[0m, in \u001b[0;36m<cell line: 1>\u001b[1;34m()\u001b[0m\n\u001b[1;32m----> 1\u001b[0m \u001b[38;5;124;43m\"\u001b[39;49m\u001b[38;5;124;43mI have eaten \u001b[39;49m\u001b[38;5;124;43m\"\u001b[39;49m\u001b[38;5;241;43m+\u001b[39;49m\u001b[43m \u001b[49m\u001b[38;5;241;43m99\u001b[39;49m \u001b[38;5;241m+\u001b[39m \u001b[38;5;124m\"\u001b[39m\u001b[38;5;124mburritos\u001b[39m\u001b[38;5;124m\"\u001b[39m\n",
      "\u001b[1;31mTypeError\u001b[0m: can only concatenate str (not \"int\") to str"
     ]
    }
   ],
   "source": [
    "\"I have eaten \"+ 99 + \"burritos\""
   ]
  },
  {
   "cell_type": "code",
   "execution_count": 12,
   "id": "8536433d",
   "metadata": {},
   "outputs": [
    {
     "data": {
      "text/plain": [
       "'I have eaten 99 burritos'"
      ]
     },
     "execution_count": 12,
     "metadata": {},
     "output_type": "execute_result"
    }
   ],
   "source": [
    "\"I have eaten \"+ str(99)  + \" burritos\""
   ]
  },
  {
   "cell_type": "code",
   "execution_count": null,
   "id": "b22e9b44",
   "metadata": {},
   "outputs": [],
   "source": []
  }
 ],
 "metadata": {
  "kernelspec": {
   "display_name": "Python 3 (ipykernel)",
   "language": "python",
   "name": "python3"
  },
  "language_info": {
   "codemirror_mode": {
    "name": "ipython",
    "version": 3
   },
   "file_extension": ".py",
   "mimetype": "text/x-python",
   "name": "python",
   "nbconvert_exporter": "python",
   "pygments_lexer": "ipython3",
   "version": "3.10.4"
  }
 },
 "nbformat": 4,
 "nbformat_minor": 5
}
