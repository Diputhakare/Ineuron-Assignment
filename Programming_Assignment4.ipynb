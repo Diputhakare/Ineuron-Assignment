{
 "cells": [
  {
   "cell_type": "markdown",
   "id": "1e089b36",
   "metadata": {},
   "source": [
    "1. Write a Python Program to Find the Factorial of a Number?"
   ]
  },
  {
   "cell_type": "code",
   "execution_count": 6,
   "id": "5def4d0c",
   "metadata": {},
   "outputs": [
    {
     "name": "stdout",
     "output_type": "stream",
     "text": [
      "Enter the number :5\n",
      "Factorial :  120\n"
     ]
    }
   ],
   "source": [
    "#Method1\n",
    "n=int(input(\"Enter the number :\"))\n",
    "fact=1\n",
    "while (n>0):\n",
    "    fact=fact*n\n",
    "    n=n-1\n",
    "print(\"Factorial : \",fact)   \n"
   ]
  },
  {
   "cell_type": "code",
   "execution_count": 7,
   "id": "0b9f5a9d",
   "metadata": {},
   "outputs": [
    {
     "name": "stdout",
     "output_type": "stream",
     "text": [
      "Enter the number : 5\n",
      "Factorial of 5 is 120 :\n"
     ]
    }
   ],
   "source": [
    "#Method2\n",
    "fact_number=int(input(\"Enter the number : \"))\n",
    "fact=1\n",
    "for i in range(1,fact_number+1):\n",
    "    fact=fact*i\n",
    "print(\"Factorial of {0} is {1} :\".format(fact_number,fact))  "
   ]
  },
  {
   "cell_type": "markdown",
   "id": "9cf02310",
   "metadata": {},
   "source": [
    "2. Write a Python Program to Display the multiplication Table?"
   ]
  },
  {
   "cell_type": "code",
   "execution_count": 8,
   "id": "d8e92734",
   "metadata": {},
   "outputs": [
    {
     "name": "stdout",
     "output_type": "stream",
     "text": [
      "Enter the number: 21\n",
      "Multiplication table of  21\n",
      "21\n",
      "42\n",
      "63\n",
      "84\n",
      "105\n",
      "126\n",
      "147\n",
      "168\n",
      "189\n",
      "210\n"
     ]
    }
   ],
   "source": [
    "n=int(input(\"Enter the number: \"))\n",
    "print(\"Multiplication table of \",n)\n",
    "for i in range(1,11):\n",
    "    print(n*i)"
   ]
  },
  {
   "cell_type": "markdown",
   "id": "0b6de625",
   "metadata": {},
   "source": [
    "3. Write a Python Program to Print the Fibonacci sequence?"
   ]
  },
  {
   "cell_type": "code",
   "execution_count": 9,
   "id": "813102e3",
   "metadata": {},
   "outputs": [
    {
     "name": "stdout",
     "output_type": "stream",
     "text": [
      "Enter the starting number of fibonacci_series :0\n",
      "Enter the last number of fibonacci_series :1\n",
      "Enter the number :10\n",
      "0\n",
      "1\n",
      "1\n",
      "2\n",
      "3\n",
      "5\n",
      "8\n"
     ]
    }
   ],
   "source": [
    "# Fibonacii Series :- The next number is found by adding up the two numbers before it:\n",
    "x=int(input(\"Enter the starting number of fibonacci_series :\"))\n",
    "y=int(input(\"Enter the last number of fibonacci_series :\"))\n",
    "n=int(input(\"Enter the number :\"))\n",
    "z=0\n",
    "while (z <= n ):\n",
    "    print(z)\n",
    "    x=y\n",
    "    y=z\n",
    "    z=x+y\n"
   ]
  },
  {
   "cell_type": "markdown",
   "id": "5f19e699",
   "metadata": {},
   "source": [
    "4. Write a Python Program to Check Armstrong Number?"
   ]
  },
  {
   "cell_type": "code",
   "execution_count": 10,
   "id": "79680078",
   "metadata": {},
   "outputs": [
    {
     "name": "stdout",
     "output_type": "stream",
     "text": [
      "Enter the number :153\n",
      "Number is Amstrong :  153\n"
     ]
    }
   ],
   "source": [
    "# Amstrong Number:- A number that is equal to the sum of the cubes of it's own digit\n",
    "n=int(input(\"Enter the number :\"))\n",
    "origin=n\n",
    "sum=0\n",
    "while (n > 0):\n",
    "    sum=sum+(n%10)*(n%10)*(n%10)\n",
    "    n=n//10\n",
    "if origin ==sum:\n",
    "    print(\"Number is Amstrong : \",origin)\n",
    "else:\n",
    "    print(\"Number is Amstrong : \",origin)"
   ]
  },
  {
   "cell_type": "markdown",
   "id": "0b1afa6d",
   "metadata": {},
   "source": [
    "5. Write a Python Program to Find Armstrong Number in an Interval?"
   ]
  },
  {
   "cell_type": "code",
   "execution_count": 3,
   "id": "967bcd0a",
   "metadata": {},
   "outputs": [
    {
     "name": "stdout",
     "output_type": "stream",
     "text": [
      "Enter the start_number : 1\n",
      "Enter the last_number : 1000\n",
      "1\n",
      "153\n",
      "370\n",
      "371\n",
      "407\n"
     ]
    }
   ],
   "source": [
    "start_number=int(input(\"Enter the start_number : \"))\n",
    "last_number=int(input(\"Enter the last_number : \"))\n",
    "for n in range(start_number,last_number):\n",
    "    origin=n\n",
    "    sum=0\n",
    "    while (n > 0): \n",
    "        sum=sum+(n%10)*(n%10)*(n%10)\n",
    "        n=n//10\n",
    "    if origin ==sum:\n",
    "        print(origin)\n"
   ]
  },
  {
   "cell_type": "markdown",
   "id": "30e7a62a",
   "metadata": {},
   "source": [
    "6. Write a Python Program to Find the Sum of Natural Numbers?"
   ]
  },
  {
   "cell_type": "code",
   "execution_count": 5,
   "id": "cc54c4ac",
   "metadata": {},
   "outputs": [
    {
     "name": "stdout",
     "output_type": "stream",
     "text": [
      "Enter the number : 10\n",
      "sum :  55\n"
     ]
    }
   ],
   "source": [
    "n=int(input(\"Enter the number : \"))\n",
    "i=1\n",
    "sum=0\n",
    "while(i <= n):\n",
    "    sum=sum+i\n",
    "    i=i+1\n",
    "print(\"sum : \",sum)\n",
    "    "
   ]
  },
  {
   "cell_type": "code",
   "execution_count": null,
   "id": "deffe41b",
   "metadata": {},
   "outputs": [],
   "source": []
  }
 ],
 "metadata": {
  "kernelspec": {
   "display_name": "Python 3 (ipykernel)",
   "language": "python",
   "name": "python3"
  },
  "language_info": {
   "codemirror_mode": {
    "name": "ipython",
    "version": 3
   },
   "file_extension": ".py",
   "mimetype": "text/x-python",
   "name": "python",
   "nbconvert_exporter": "python",
   "pygments_lexer": "ipython3",
   "version": "3.10.4"
  }
 },
 "nbformat": 4,
 "nbformat_minor": 5
}
