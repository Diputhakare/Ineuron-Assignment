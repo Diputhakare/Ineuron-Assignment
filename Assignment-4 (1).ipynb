{
 "cells": [
  {
   "cell_type": "markdown",
   "id": "b0622f95",
   "metadata": {},
   "source": [
    "1. What exactly is []?"
   ]
  },
  {
   "cell_type": "markdown",
   "id": "876d3c06",
   "metadata": {},
   "source": [
    "This index/square bracket used to define list data type."
   ]
  },
  {
   "cell_type": "markdown",
   "id": "add8b77d",
   "metadata": {},
   "source": [
    "2. In a list of values stored in a variable called spam, how would you assign the value 'hello' as the\n",
    "third value? (Assume [2, 4, 6, 8, 10] are in spam.)"
   ]
  },
  {
   "cell_type": "code",
   "execution_count": 1,
   "id": "51111f76",
   "metadata": {},
   "outputs": [],
   "source": [
    "spam=[2,4,6,8,10]"
   ]
  },
  {
   "cell_type": "code",
   "execution_count": 2,
   "id": "55c782b8",
   "metadata": {},
   "outputs": [],
   "source": [
    "spam[2]='hello'"
   ]
  },
  {
   "cell_type": "code",
   "execution_count": 3,
   "id": "b561b9fe",
   "metadata": {},
   "outputs": [
    {
     "data": {
      "text/plain": [
       "[2, 4, 'hello', 8, 10]"
      ]
     },
     "execution_count": 3,
     "metadata": {},
     "output_type": "execute_result"
    }
   ],
   "source": [
    "spam"
   ]
  },
  {
   "cell_type": "markdown",
   "id": "b81f960c",
   "metadata": {},
   "source": [
    "Let's pretend the spam includes the list ['a','b','c','d'] for the next three queries."
   ]
  },
  {
   "cell_type": "markdown",
   "id": "a26e5755",
   "metadata": {},
   "source": [
    "3. What is the value of spam[int(int('3'* 2) / 11)]?"
   ]
  },
  {
   "cell_type": "code",
   "execution_count": 4,
   "id": "1bbb234a",
   "metadata": {},
   "outputs": [],
   "source": [
    "spam=['a','b','c','d']"
   ]
  },
  {
   "cell_type": "code",
   "execution_count": 5,
   "id": "eae2677a",
   "metadata": {},
   "outputs": [
    {
     "data": {
      "text/plain": [
       "'d'"
      ]
     },
     "execution_count": 5,
     "metadata": {},
     "output_type": "execute_result"
    }
   ],
   "source": [
    " spam[int(int('3'* 2) / 11)]"
   ]
  },
  {
   "cell_type": "markdown",
   "id": "3ff2c013",
   "metadata": {},
   "source": [
    "4. What is the value of spam[-1]?"
   ]
  },
  {
   "cell_type": "code",
   "execution_count": 6,
   "id": "b9bc6723",
   "metadata": {},
   "outputs": [
    {
     "data": {
      "text/plain": [
       "'d'"
      ]
     },
     "execution_count": 6,
     "metadata": {},
     "output_type": "execute_result"
    }
   ],
   "source": [
    "spam[-1]"
   ]
  },
  {
   "cell_type": "markdown",
   "id": "d2e89a25",
   "metadata": {},
   "source": [
    "5. What is the value of spam[:2]?"
   ]
  },
  {
   "cell_type": "code",
   "execution_count": 7,
   "id": "d95eb9fb",
   "metadata": {},
   "outputs": [
    {
     "data": {
      "text/plain": [
       "['a', 'b']"
      ]
     },
     "execution_count": 7,
     "metadata": {},
     "output_type": "execute_result"
    }
   ],
   "source": [
    "spam[:2]"
   ]
  },
  {
   "cell_type": "markdown",
   "id": "56bce4e6",
   "metadata": {},
   "source": [
    "#Let is pretend bacon has the list [3.14, 'cat', 11, 'cat', True] for the next three questions.\n"
   ]
  },
  {
   "cell_type": "markdown",
   "id": "e13bd44f",
   "metadata": {},
   "source": [
    "6. What is the value of bacon.index('cat')?"
   ]
  },
  {
   "cell_type": "code",
   "execution_count": 8,
   "id": "26ce4d98",
   "metadata": {},
   "outputs": [],
   "source": [
    "bacon=[3.14, 'cat', 11, 'cat', True]"
   ]
  },
  {
   "cell_type": "code",
   "execution_count": 9,
   "id": "fc096ead",
   "metadata": {},
   "outputs": [
    {
     "data": {
      "text/plain": [
       "1"
      ]
     },
     "execution_count": 9,
     "metadata": {},
     "output_type": "execute_result"
    }
   ],
   "source": [
    "bacon.index('cat') # returns index at  the first occurence of a value"
   ]
  },
  {
   "cell_type": "markdown",
   "id": "8571dd35",
   "metadata": {},
   "source": [
    "7. How does bacon.append(99) change the look of the list value in bacon?\n"
   ]
  },
  {
   "cell_type": "code",
   "execution_count": 10,
   "id": "e7c30e06",
   "metadata": {},
   "outputs": [
    {
     "data": {
      "text/plain": [
       "[3.14, 'cat', 11, 'cat', True]"
      ]
     },
     "execution_count": 10,
     "metadata": {},
     "output_type": "execute_result"
    }
   ],
   "source": [
    "bacon"
   ]
  },
  {
   "cell_type": "code",
   "execution_count": 11,
   "id": "760e2ec4",
   "metadata": {},
   "outputs": [],
   "source": [
    "bacon.append(99) #insert a given value last"
   ]
  },
  {
   "cell_type": "code",
   "execution_count": 12,
   "id": "c3153397",
   "metadata": {},
   "outputs": [
    {
     "data": {
      "text/plain": [
       "[3.14, 'cat', 11, 'cat', True, 99]"
      ]
     },
     "execution_count": 12,
     "metadata": {},
     "output_type": "execute_result"
    }
   ],
   "source": [
    "bacon"
   ]
  },
  {
   "cell_type": "markdown",
   "id": "bfe8013a",
   "metadata": {},
   "source": [
    "8. How does bacon.remove('cat') change the look of the list in bacon?"
   ]
  },
  {
   "cell_type": "code",
   "execution_count": 13,
   "id": "067793eb",
   "metadata": {},
   "outputs": [
    {
     "data": {
      "text/plain": [
       "[3.14, 'cat', 11, 'cat', True, 99]"
      ]
     },
     "execution_count": 13,
     "metadata": {},
     "output_type": "execute_result"
    }
   ],
   "source": [
    "bacon"
   ]
  },
  {
   "cell_type": "code",
   "execution_count": 14,
   "id": "5d87de29",
   "metadata": {},
   "outputs": [],
   "source": [
    "bacon.remove('cat') #remove a given  value # found at the first occurrence in the list"
   ]
  },
  {
   "cell_type": "code",
   "execution_count": 15,
   "id": "d13319f2",
   "metadata": {},
   "outputs": [
    {
     "data": {
      "text/plain": [
       "[3.14, 11, 'cat', True, 99]"
      ]
     },
     "execution_count": 15,
     "metadata": {},
     "output_type": "execute_result"
    }
   ],
   "source": [
    "bacon"
   ]
  },
  {
   "cell_type": "markdown",
   "id": "aa19b46d",
   "metadata": {},
   "source": [
    "9. What are the list concatenation and list replication operators?\n"
   ]
  },
  {
   "cell_type": "markdown",
   "id": "9e32ef6c",
   "metadata": {},
   "source": [
    "The operator for a list concatenation is +\n",
    " \n",
    "the operator for a list replication is *    "
   ]
  },
  {
   "cell_type": "markdown",
   "id": "fbf1b217",
   "metadata": {},
   "source": [
    "10. What is difference between the list methods append() and insert()?\n"
   ]
  },
  {
   "cell_type": "markdown",
   "id": "fa949e86",
   "metadata": {},
   "source": [
    "append() method will add values only to the end of a list\n",
    "\n",
    "insert() method can add values anywhere in the list\n"
   ]
  },
  {
   "cell_type": "markdown",
   "id": "d3938159",
   "metadata": {},
   "source": [
    "11. What are the two methods for removing items from a list?\n"
   ]
  },
  {
   "cell_type": "markdown",
   "id": "bb4b6296",
   "metadata": {},
   "source": [
    "1.remove() method removes the specified item.\n",
    "\n",
    "2.pop() method removes the specified index.\n"
   ]
  },
  {
   "cell_type": "markdown",
   "id": "41621ce8",
   "metadata": {},
   "source": [
    "12. Describe how list values and string values are identical.\n"
   ]
  },
  {
   "cell_type": "markdown",
   "id": "c973b978",
   "metadata": {},
   "source": [
    "firstly, list are mutable and string are immutable.elements of a list can be different types \n",
    "\n",
    "whereas a string only contain characters that are all of string type."
   ]
  },
  {
   "cell_type": "markdown",
   "id": "9246048b",
   "metadata": {},
   "source": [
    "13. What is the difference between tuples and lists?\n"
   ]
  },
  {
   "cell_type": "markdown",
   "id": "4828008e",
   "metadata": {},
   "source": [
    "Tuples are immutable and hence we can not change the elements of tuples.Tuples are written using parathesis().\n",
    "\n",
    "whereas list are mutable hence we can change the elements of list.list are written using square brackets [].\n",
    "\n",
    "Otherwise tuples and list are same.They both contain different types of objects and is used to iterate objects."
   ]
  },
  {
   "cell_type": "markdown",
   "id": "54a77f00",
   "metadata": {},
   "source": [
    "14. How do you type a tuple value that only contains the integer 42?"
   ]
  },
  {
   "cell_type": "code",
   "execution_count": 16,
   "id": "3063508d",
   "metadata": {},
   "outputs": [
    {
     "data": {
      "text/plain": [
       "int"
      ]
     },
     "execution_count": 16,
     "metadata": {},
     "output_type": "execute_result"
    }
   ],
   "source": [
    "tuple1=(42)\n",
    "type(tuple1)\n"
   ]
  },
  {
   "cell_type": "code",
   "execution_count": 17,
   "id": "eb59642e",
   "metadata": {},
   "outputs": [
    {
     "data": {
      "text/plain": [
       "tuple"
      ]
     },
     "execution_count": 17,
     "metadata": {},
     "output_type": "execute_result"
    }
   ],
   "source": [
    "tuple2=(42,)\n",
    "type(tuple2)"
   ]
  },
  {
   "cell_type": "markdown",
   "id": "9329808a",
   "metadata": {},
   "source": [
    "15. How do you get a list values tuple form? How do you get a tuple values list form?"
   ]
  },
  {
   "cell_type": "code",
   "execution_count": 18,
   "id": "252f37e7",
   "metadata": {},
   "outputs": [],
   "source": [
    "l1=[2,5,6]"
   ]
  },
  {
   "cell_type": "code",
   "execution_count": 19,
   "id": "e03aec5a",
   "metadata": {},
   "outputs": [
    {
     "data": {
      "text/plain": [
       "(2, 5, 6)"
      ]
     },
     "execution_count": 19,
     "metadata": {},
     "output_type": "execute_result"
    }
   ],
   "source": [
    "t1= tuple(l1) #list values in tuple form using tuple() built-in function\n",
    "t1"
   ]
  },
  {
   "cell_type": "code",
   "execution_count": 20,
   "id": "b3f0522e",
   "metadata": {},
   "outputs": [
    {
     "data": {
      "text/plain": [
       "[2, 5, 6]"
      ]
     },
     "execution_count": 20,
     "metadata": {},
     "output_type": "execute_result"
    }
   ],
   "source": [
    "l=list(t1) # Tuple values in list form using list() function.\n",
    "l"
   ]
  },
  {
   "cell_type": "markdown",
   "id": "4cc041e6",
   "metadata": {},
   "source": [
    "16. Variables that \"contain\" list values are not necessarily lists themselves. Instead, what do they\n",
    "contain?"
   ]
  },
  {
   "cell_type": "markdown",
   "id": "e9b39bcf",
   "metadata": {},
   "source": [
    "They contain reference to list value"
   ]
  },
  {
   "cell_type": "markdown",
   "id": "fb125d8e",
   "metadata": {},
   "source": [
    "17. How do you distinguish between copy.copy() and copy.deepcopy()?"
   ]
  },
  {
   "cell_type": "markdown",
   "id": "e6dfe9fd",
   "metadata": {},
   "source": [
    "copy.copy() ,a copy construct a new compound object and then insert references into it to the objects found in the original. \n",
    "Change in one entity is reflected in other entity.\n",
    "\n",
    "copy.deepcpy() construct a new compound object and then, recursively ,inserts copies into it of the objects found in the original.\n",
    "Change in one entity are  not reflected in changes in another identity"
   ]
  }
 ],
 "metadata": {
  "kernelspec": {
   "display_name": "Python 3 (ipykernel)",
   "language": "python",
   "name": "python3"
  },
  "language_info": {
   "codemirror_mode": {
    "name": "ipython",
    "version": 3
   },
   "file_extension": ".py",
   "mimetype": "text/x-python",
   "name": "python",
   "nbconvert_exporter": "python",
   "pygments_lexer": "ipython3",
   "version": "3.10.4"
  }
 },
 "nbformat": 4,
 "nbformat_minor": 5
}
