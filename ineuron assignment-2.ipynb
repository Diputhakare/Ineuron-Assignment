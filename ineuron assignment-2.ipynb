{
 "cells": [
  {
   "cell_type": "markdown",
   "id": "ce99b0b1",
   "metadata": {},
   "source": [
    "Q1.What are the two values of the Boolean data type? How do you write them?"
   ]
  },
  {
   "cell_type": "markdown",
   "id": "32a3d475",
   "metadata": {},
   "source": [
    "Boolean data type is built-in data type;\n",
    "\n",
    "Boolean data type has two values : True and False. \n",
    "relational operator and logical operator are those that gives Boolean data type (either True or False)."
   ]
  },
  {
   "cell_type": "code",
   "execution_count": 2,
   "id": "3d2d24d0",
   "metadata": {},
   "outputs": [
    {
     "name": "stdout",
     "output_type": "stream",
     "text": [
      "True\n",
      "False\n"
     ]
    }
   ],
   "source": [
    "a=2\n",
    "b=4\n",
    "print(a<b)\n",
    "print(a>b)"
   ]
  },
  {
   "cell_type": "markdown",
   "id": "a962028f",
   "metadata": {},
   "source": [
    "Q2.What are the three different types of Boolean operators?"
   ]
  },
  {
   "cell_type": "markdown",
   "id": "c572769d",
   "metadata": {},
   "source": [
    "There are three different type of boolean operator: and ,or ,not;\n",
    "\n",
    "and - It check all the conditions,its return True if and only if the all condition True(T) otherwise return False(F);\n",
    "\n",
    "or - It check all the condtion,its return True if any one of the condition is True otherwise return False(if all condition is False);\n",
    "\n",
    "not-This opertaor is used to invert the output condition,if some condition is True it will convert it to False."
   ]
  },
  {
   "cell_type": "markdown",
   "id": "58b3e362",
   "metadata": {},
   "source": [
    "Q3. Make a list of each Boolean operators truth tables (i.e. every possible combination of Boolean\n",
    "values for the operator and what it evaluate )."
   ]
  },
  {
   "cell_type": "markdown",
   "id": "b2712f83",
   "metadata": {},
   "source": [
    "and-\n",
    "\n",
    "True and True   =True\n",
    "\n",
    "True and False  =False\n",
    "\n",
    "False and True  =False\n",
    "\n",
    "False and False  =False\n",
    "\n",
    "or-\n",
    "\n",
    "True or True   =True\n",
    "\n",
    "True or False  =True\n",
    "\n",
    "False or True  =True\n",
    "\n",
    "False or False  =False\n",
    "\n",
    "not-\n",
    "\n",
    "True=False ;   False=True\n",
    "\n"
   ]
  },
  {
   "cell_type": "code",
   "execution_count": null,
   "id": "c81f6993",
   "metadata": {},
   "outputs": [],
   "source": []
  },
  {
   "cell_type": "markdown",
   "id": "b9028bb2",
   "metadata": {},
   "source": [
    "Q4.What are the values of the following expressions"
   ]
  },
  {
   "cell_type": "code",
   "execution_count": 3,
   "id": "6ef84656",
   "metadata": {},
   "outputs": [
    {
     "name": "stdout",
     "output_type": "stream",
     "text": [
      "False\n",
      "False\n",
      "True\n",
      "False\n",
      "False\n",
      "True\n"
     ]
    }
   ],
   "source": [
    "print((5>4) and (3==4)) \n",
    "print(not (5>4))\n",
    "print((5 > 4) or (3 == 5))\n",
    "print(not ((5 >4) or (3 == 5)))\n",
    "print((True and True) and (True == False))\n",
    "print((not False) or (not True))"
   ]
  },
  {
   "cell_type": "markdown",
   "id": "962259d8",
   "metadata": {},
   "source": [
    "Q5.What are the six comparison operators"
   ]
  },
  {
   "cell_type": "markdown",
   "id": "d6c0efbb",
   "metadata": {},
   "source": [
    "== (equal to)  , >(greater than) ,>= (greater than equal to)  ,< (less than)  , <= (less than equal to)  , != (not equal to)"
   ]
  },
  {
   "cell_type": "markdown",
   "id": "a692d388",
   "metadata": {},
   "source": [
    "Q6 .How do you tell the difference between the equal to and assignment operators?Describe a\n",
    "condition and when you would use one."
   ]
  },
  {
   "cell_type": "markdown",
   "id": "b014879f",
   "metadata": {},
   "source": [
    "= = (Equal to) : Its perform camparison,check whether first number is equal to second number.\n",
    "    \n",
    "= (Assignment operator) : Its use to assign a value to a variable\n",
    "    "
   ]
  },
  {
   "cell_type": "code",
   "execution_count": 4,
   "id": "85f45dbf",
   "metadata": {},
   "outputs": [
    {
     "data": {
      "text/plain": [
       "False"
      ]
     },
     "execution_count": 4,
     "metadata": {},
     "output_type": "execute_result"
    }
   ],
   "source": [
    "a=4\n",
    "b=2\n",
    "a==b"
   ]
  },
  {
   "cell_type": "markdown",
   "id": "bd01c4da",
   "metadata": {},
   "source": [
    "Q 7.Identify the three blocks in this code"
   ]
  },
  {
   "cell_type": "code",
   "execution_count": 3,
   "id": "6848fb13",
   "metadata": {},
   "outputs": [
    {
     "name": "stdout",
     "output_type": "stream",
     "text": [
      "ham\n",
      "spam\n",
      "spam\n"
     ]
    }
   ],
   "source": [
    "spam = 0\n",
    "if spam == 10:\n",
    "    print(\"eggs\")\n",
    "if spam > 5:\n",
    "    print(\"bacon\")\n",
    "else:\n",
    "    print(\"ham\")\n",
    "    print(\"spam\")\n",
    "    print(\"spam\")        \n"
   ]
  },
  {
   "cell_type": "markdown",
   "id": "c72cf80c",
   "metadata": {},
   "source": [
    "Q8.Write code that prints Hello if 1 is stored in spam, prints Howdy if 2 is stored in spam, and prints\n",
    "Greetings! if anything else is stored in spam."
   ]
  },
  {
   "cell_type": "code",
   "execution_count": 5,
   "id": "63a7dbe5",
   "metadata": {},
   "outputs": [
    {
     "name": "stdout",
     "output_type": "stream",
     "text": [
      "Enter the number:4\n",
      "Greeting!\n"
     ]
    }
   ],
   "source": [
    "spam=int(input(\"Enter the number:\"))\n",
    "if spam==1:\n",
    "    print(\"Hello\")\n",
    "elif spam==2:\n",
    "    print(\"Howdy\")\n",
    "else:\n",
    "    print(\"Greeting!\")\n",
    "    "
   ]
  },
  {
   "cell_type": "markdown",
   "id": "211ba97f",
   "metadata": {},
   "source": [
    "Q9.If your programme is stuck in an endless loop, what keys you’ll press?"
   ]
  },
  {
   "cell_type": "markdown",
   "id": "5940b7c9",
   "metadata": {},
   "source": [
    "If programme is stuck in an endless loop:press Ctrl+c"
   ]
  },
  {
   "cell_type": "markdown",
   "id": "9bc42fe2",
   "metadata": {},
   "source": [
    "Q10. How can you tell the difference between break and continue."
   ]
  },
  {
   "cell_type": "markdown",
   "id": "f56f255f",
   "metadata": {},
   "source": [
    "break -Break statement enclose current loop,and execute next loop.\n",
    "\n",
    "continue -Its applies only for the immediate enclosing loop."
   ]
  },
  {
   "cell_type": "markdown",
   "id": "bb5db3d6",
   "metadata": {},
   "source": [
    "Q11.In a for loop, what is the difference between range(10), range(0, 10), and range(0, 10, 1)"
   ]
  },
  {
   "cell_type": "code",
   "execution_count": 7,
   "id": "a6615e86",
   "metadata": {},
   "outputs": [
    {
     "name": "stdout",
     "output_type": "stream",
     "text": [
      "0\n",
      "1\n",
      "2\n",
      "3\n",
      "4\n",
      "5\n",
      "6\n",
      "7\n",
      "8\n",
      "9\n"
     ]
    }
   ],
   "source": [
    "for i in range(10):\n",
    "    print(i)"
   ]
  },
  {
   "cell_type": "code",
   "execution_count": 11,
   "id": "0797c1c8",
   "metadata": {},
   "outputs": [
    {
     "name": "stdout",
     "output_type": "stream",
     "text": [
      "0\n",
      "1\n",
      "2\n",
      "3\n",
      "4\n",
      "5\n",
      "6\n",
      "7\n",
      "8\n",
      "9\n"
     ]
    }
   ],
   "source": [
    "for i in range(0,10):\n",
    "    print(i)\n",
    "    "
   ]
  },
  {
   "cell_type": "code",
   "execution_count": 13,
   "id": "9a5373c2",
   "metadata": {},
   "outputs": [
    {
     "name": "stdout",
     "output_type": "stream",
     "text": [
      "0\n",
      "1\n",
      "2\n",
      "3\n",
      "4\n",
      "5\n",
      "6\n",
      "7\n",
      "8\n",
      "9\n"
     ]
    }
   ],
   "source": [
    "for i in range(0,10,1):\n",
    "    print(i)"
   ]
  },
  {
   "cell_type": "markdown",
   "id": "133580dd",
   "metadata": {},
   "source": [
    "We know the range syntax: range(startvalue,endvalue,stepvalue)\n",
    "\n",
    "In range(10),it has only end value, by default it start from 0 and 1 step value.\n",
    "\n",
    "In range(0,10) , it has start value and end value ,by default it takes 1 step value.\n",
    "\n",
    "In range(0,10,1), it has start value ,end value and step value\n",
    " \n",
    "There is no difference between the above range statement,they give the same result."
   ]
  },
  {
   "cell_type": "markdown",
   "id": "e66faaa9",
   "metadata": {},
   "source": [
    "Q12. Write a short program that prints the numbers 1 to 10 using a for loop. Then write an equivalent\n",
    "program that prints the numbers 1 to 10 using a while loop\n"
   ]
  },
  {
   "cell_type": "code",
   "execution_count": 21,
   "id": "062470ac",
   "metadata": {},
   "outputs": [
    {
     "name": "stdout",
     "output_type": "stream",
     "text": [
      "1\n",
      "2\n",
      "3\n",
      "4\n",
      "5\n",
      "6\n",
      "7\n",
      "8\n",
      "9\n",
      "10\n"
     ]
    }
   ],
   "source": [
    "#using For loop\n",
    "for i in range(1,11):\n",
    "    print(i)"
   ]
  },
  {
   "cell_type": "code",
   "execution_count": 20,
   "id": "414a86cd",
   "metadata": {},
   "outputs": [
    {
     "name": "stdout",
     "output_type": "stream",
     "text": [
      "1\n",
      "2\n",
      "3\n",
      "4\n",
      "5\n",
      "6\n",
      "7\n",
      "8\n",
      "9\n",
      "10\n"
     ]
    }
   ],
   "source": [
    "#using while loop\n",
    "i=1\n",
    "while (i<=10):\n",
    "    print(i)\n",
    "    i+=1"
   ]
  },
  {
   "cell_type": "markdown",
   "id": "84801541",
   "metadata": {},
   "source": [
    "Q13.If you had a function named bacon() inside a module named spam, how would you call it after\n",
    "importing spam"
   ]
  },
  {
   "cell_type": "markdown",
   "id": "c361a7f2",
   "metadata": {},
   "source": [
    "def bacon():\n",
    "    return \"Hi!\""
   ]
  },
  {
   "cell_type": "markdown",
   "id": "9e3a07ef",
   "metadata": {},
   "source": [
    "import spam\n",
    "spam.bacon() ### call it After importing spam: spam.bacon()"
   ]
  }
 ],
 "metadata": {
  "kernelspec": {
   "display_name": "Python 3 (ipykernel)",
   "language": "python",
   "name": "python3"
  },
  "language_info": {
   "codemirror_mode": {
    "name": "ipython",
    "version": 3
   },
   "file_extension": ".py",
   "mimetype": "text/x-python",
   "name": "python",
   "nbconvert_exporter": "python",
   "pygments_lexer": "ipython3",
   "version": "3.10.4"
  }
 },
 "nbformat": 4,
 "nbformat_minor": 5
}
