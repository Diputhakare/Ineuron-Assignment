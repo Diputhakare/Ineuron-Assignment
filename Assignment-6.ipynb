{
 "cells": [
  {
   "cell_type": "markdown",
   "id": "75902128",
   "metadata": {},
   "source": [
    "1. What are escape characters, and how do you use them?\n"
   ]
  },
  {
   "cell_type": "markdown",
   "id": "1ec52b51",
   "metadata": {},
   "source": [
    "An escape characters represent special characters in string values that \n",
    "\n",
    "may be difficult or impossible to express directly like newline,tab,and so on\n"
   ]
  },
  {
   "cell_type": "markdown",
   "id": "16399f3d",
   "metadata": {},
   "source": [
    "2. What do the escape characters n and t stand for?\n"
   ]
  },
  {
   "cell_type": "markdown",
   "id": "d1673304",
   "metadata": {},
   "source": [
    "\\n: reperesent new line.\n",
    " \n",
    "\\t: represent a tab."
   ]
  },
  {
   "cell_type": "markdown",
   "id": "cf2c502f",
   "metadata": {},
   "source": [
    "3. What is the way to include backslash characters in a string?\n"
   ]
  },
  {
   "cell_type": "code",
   "execution_count": 5,
   "id": "1476f4ac",
   "metadata": {},
   "outputs": [
    {
     "name": "stdout",
     "output_type": "stream",
     "text": [
      "python\\escape\n"
     ]
    }
   ],
   "source": [
    "#\\\\:represent backslash\n",
    "print('python\\\\escape')"
   ]
  },
  {
   "cell_type": "markdown",
   "id": "75bfd996",
   "metadata": {},
   "source": [
    "4. The string \"Howl's Moving Castle\" is a correct value. Why isn't the single quote character in the\n",
    "word Howl's not escaped a problem?\n"
   ]
  },
  {
   "cell_type": "markdown",
   "id": "4265956f",
   "metadata": {},
   "source": [
    "  single quote character in word Howl's  beacause we used  double quotes for whole string"
   ]
  },
  {
   "cell_type": "markdown",
   "id": "1324d341",
   "metadata": {},
   "source": [
    "5. How do you write a string of newlines if you don't want to use the n character?\n"
   ]
  },
  {
   "cell_type": "markdown",
   "id": "43b7826e",
   "metadata": {},
   "source": [
    "Multiline strings allow you to use newlines in strings without the \\n escape character."
   ]
  },
  {
   "cell_type": "code",
   "execution_count": 4,
   "id": "ca0b557c",
   "metadata": {},
   "outputs": [],
   "source": [
    "#Example:\n",
    "x='''hi! \n",
    " I am dipmala thakare'''"
   ]
  },
  {
   "cell_type": "code",
   "execution_count": 5,
   "id": "bfee73c4",
   "metadata": {},
   "outputs": [
    {
     "name": "stdout",
     "output_type": "stream",
     "text": [
      "hi! \n",
      " I am dipmala thakare\n"
     ]
    }
   ],
   "source": [
    "print(x)"
   ]
  },
  {
   "cell_type": "markdown",
   "id": "9a66a692",
   "metadata": {},
   "source": [
    "6. What are the values of the given expressions?\n",
    "\"Hello, world!\"[1]\n",
    "\"Hello, world!\"[0:5]\n",
    "\"Hello, world!\"[:5]\n",
    "\"Hello, world!\"[3:]"
   ]
  },
  {
   "cell_type": "code",
   "execution_count": 8,
   "id": "98d33b7a",
   "metadata": {},
   "outputs": [
    {
     "name": "stdout",
     "output_type": "stream",
     "text": [
      "e\n"
     ]
    }
   ],
   "source": [
    "print(\"Hello, world!\"[1])"
   ]
  },
  {
   "cell_type": "code",
   "execution_count": 9,
   "id": "a82aa314",
   "metadata": {},
   "outputs": [
    {
     "name": "stdout",
     "output_type": "stream",
     "text": [
      "Hello\n"
     ]
    }
   ],
   "source": [
    "print(\"Hello, world!\"[0:5])"
   ]
  },
  {
   "cell_type": "code",
   "execution_count": 10,
   "id": "55d2751a",
   "metadata": {},
   "outputs": [
    {
     "name": "stdout",
     "output_type": "stream",
     "text": [
      "Hello\n"
     ]
    }
   ],
   "source": [
    "print(\"Hello, world!\"[:5])"
   ]
  },
  {
   "cell_type": "code",
   "execution_count": 11,
   "id": "fb5d8b07",
   "metadata": {},
   "outputs": [
    {
     "name": "stdout",
     "output_type": "stream",
     "text": [
      "lo, world!\n"
     ]
    }
   ],
   "source": [
    "print(\"Hello, world!\"[3:])"
   ]
  },
  {
   "cell_type": "markdown",
   "id": "3e1ac777",
   "metadata": {},
   "source": [
    "7. What are the values of the following expressions?\n",
    "\"Hello\".upper()\n",
    "\"Hello\".upper().isupper()\n",
    "\"Hello\".upper().lower()"
   ]
  },
  {
   "cell_type": "code",
   "execution_count": 12,
   "id": "e849f6ca",
   "metadata": {},
   "outputs": [
    {
     "data": {
      "text/plain": [
       "'HELLO'"
      ]
     },
     "execution_count": 12,
     "metadata": {},
     "output_type": "execute_result"
    }
   ],
   "source": [
    "\"Hello\".upper()"
   ]
  },
  {
   "cell_type": "code",
   "execution_count": 13,
   "id": "f26cdb51",
   "metadata": {},
   "outputs": [
    {
     "data": {
      "text/plain": [
       "True"
      ]
     },
     "execution_count": 13,
     "metadata": {},
     "output_type": "execute_result"
    }
   ],
   "source": [
    "\"Hello\".upper().isupper()"
   ]
  },
  {
   "cell_type": "code",
   "execution_count": 14,
   "id": "05c96839",
   "metadata": {},
   "outputs": [
    {
     "data": {
      "text/plain": [
       "'hello'"
      ]
     },
     "execution_count": 14,
     "metadata": {},
     "output_type": "execute_result"
    }
   ],
   "source": [
    "\"Hello\".upper().lower()"
   ]
  },
  {
   "cell_type": "markdown",
   "id": "1eb0a29e",
   "metadata": {},
   "source": [
    "8. What are the values of the following expressions?\n",
    "\n",
    "\"Remember, remember, the fifth of July.\".split()\n",
    "\"\"-\".join\"There can only one.\".split())"
   ]
  },
  {
   "cell_type": "code",
   "execution_count": 17,
   "id": "f718e0fd",
   "metadata": {},
   "outputs": [
    {
     "data": {
      "text/plain": [
       "['Remember,', 'remember,', 'the', 'fifth', 'of', 'July.']"
      ]
     },
     "execution_count": 17,
     "metadata": {},
     "output_type": "execute_result"
    }
   ],
   "source": [
    "\"Remember, remember, the fifth of July.\".split()"
   ]
  },
  {
   "cell_type": "code",
   "execution_count": 20,
   "id": "0ebc27ec",
   "metadata": {},
   "outputs": [
    {
     "data": {
      "text/plain": [
       "'There-can-only-one.'"
      ]
     },
     "execution_count": 20,
     "metadata": {},
     "output_type": "execute_result"
    }
   ],
   "source": [
    "\"-\".join(\"There can only one.\".split())"
   ]
  },
  {
   "cell_type": "markdown",
   "id": "0fd0f1c6",
   "metadata": {},
   "source": [
    "9. What are the methods for right-justifying, left-justifying, and centering a string?"
   ]
  },
  {
   "cell_type": "markdown",
   "id": "42a78976",
   "metadata": {},
   "source": [
    "The rjust(), ljust(), and center() string methods"
   ]
  },
  {
   "cell_type": "markdown",
   "id": "2f36d6b0",
   "metadata": {},
   "source": [
    "10. What is the best way to remove whitespace characters from the start or end?"
   ]
  },
  {
   "cell_type": "markdown",
   "id": "e19100ac",
   "metadata": {},
   "source": [
    "Using .strip() method to remove whitespace characters from the start to end.\n",
    "\n",
    "lstrip()method remove the whitespace character from left.\n",
    "\n",
    "rstrip() method remove the whitespace character from right."
   ]
  }
 ],
 "metadata": {
  "kernelspec": {
   "display_name": "Python 3 (ipykernel)",
   "language": "python",
   "name": "python3"
  },
  "language_info": {
   "codemirror_mode": {
    "name": "ipython",
    "version": 3
   },
   "file_extension": ".py",
   "mimetype": "text/x-python",
   "name": "python",
   "nbconvert_exporter": "python",
   "pygments_lexer": "ipython3",
   "version": "3.10.4"
  }
 },
 "nbformat": 4,
 "nbformat_minor": 5
}
